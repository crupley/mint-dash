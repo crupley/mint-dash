{
 "cells": [
  {
   "cell_type": "code",
   "execution_count": null,
   "metadata": {
    "node_exists": true,
    "node_name": "73985d072470452d8f9b71e35946a31d"
   },
   "outputs": [],
   "source": [
    "%matplotlib inline\n",
    "\n",
    "import sqlite3\n",
    "\n",
    "import numpy as np\n",
    "import pandas as pd\n",
    "import matplotlib.pyplot as plt"
   ]
  },
  {
   "cell_type": "markdown",
   "metadata": {},
   "source": [
    "# Prepare data"
   ]
  },
  {
   "cell_type": "markdown",
   "metadata": {},
   "source": [
    "## Master categories from R\n",
    "\n",
    "```R\n",
    "load(\"master.categories.dat\")\n",
    "install.packages(\"jsonlite\")\n",
    "library(jsonlite)\n",
    "toJSON(master.categories, pretty = TRUE)\n",
    ">\n",
    "```\n",
    "\n",
    "```json\n",
    "{\n",
    "  \"Housing\": [\"Home\", \"Home Improvement\", \"Home Insurance\", \"Home Services\", \"Home Supplies\", \"Lawn & Garden\", \"Mortgage & Rent\"],\n",
    "  \"Food\": [\"Fast Food\", \"Food & Dining\", \"Groceries\", \"Restaurants\"],\n",
    "  \"Bills\": [\"Bills & Utilities\", \"Home Phone\", \"Internet\", \"Mobile Phone\", \"Student Loan\", \"Television\", \"Utilities\", \"Web Hosting\"],\n",
    "  \"Health\": [\"Dentist\", \"Doctor\", \"Eyecare\", \"Gym\", \"Hair\", \"Health & Fitness\", \"Health Insurance\", \"Personal Care\", \"Pharmacy\"],\n",
    "  \"Travel\": [\"Air Travel\", \"Hotel\", \"Travel\", \"Vacation\"],\n",
    "  \"Transport\": [\"Auto & Transport\", \"Auto Insurance\", \"Auto Payment\", \"Gas & Fuel\", \"Parking\", \"Public Transportation\", \"Registration\", \"Rental Car & Taxi\", \"Service & Parts\"],\n",
    "  \"Entertainment\": [\"Amusement\", \"Alcohol & Bars\", \"Arts\", \"Coffee Shops\", \"Entertainment\", \"Movies & DVDs\", \"Music\", \"Newspapers & Magazines\", \"Spa & Massage\", \"Sports\"],\n",
    "  \"Stuff\": [\"Books\", \"Books & Supplies\", \"Clothing\", \"Electronics & Software\", \"Furnishings\", \"Hobbies\", \"Office Supplies\", \"Pet Food & Supplies\", \"Printing\", \"Shopping\", \"Sporting Goods\"],\n",
    "  \"Other\": [\"Advertising\", \"ATM Fee\", \"Bank Fee\", \"Business Services\", \"Charity\", \"Check\", \"Education\", \"Federal Tax\", \"Fees & Charges\", \"Finance Charge\", \"Financial\", \"Gift\", \"Gifts & Donations\", \"Late Fee\", \"Local Tax\", \"Moving Expenses\", \"Personal Development\", \"Pets\", \"Service Fee\", \"Shipping\", \"State Tax\", \"Taxes\", \"Trade Commissions\", \"Uncategorized\", \"Wedding\", \"Work Reimbursable\"],\n",
    "  \"Ignore\": [\"Cash & ATM\", \"Credit Card Payment\", \"Hide from Budgets & Trends\", \"Investments\", \"Kids\", \"Savings\", \"Transfer\", \"Transfer for Cash Spending\", \"Transfer to Savings\"],\n",
    "  \"Income\": [\"Bonus\", \"Income\", \"Interest Income\", \"Paycheck\", \"Rental\"]\n",
    "}\n",
    "```"
   ]
  },
  {
   "cell_type": "code",
   "execution_count": null,
   "metadata": {
    "node_exists": false,
    "node_name": "28e11e5b44ad4382999b208e9c02fe7d"
   },
   "outputs": [],
   "source": [
    "mc = {\n",
    "  \"Housing\": [\"Home\", \"Home Improvement\", \"Home Insurance\", \"Home Services\", \"Home Supplies\", \"Lawn & Garden\", \"Mortgage & Rent\"],\n",
    "  \"Food\": [\"Fast Food\", \"Food & Dining\", \"Groceries\", \"Restaurants\"],\n",
    "  \"Bills\": [\"Bills & Utilities\", \"Home Phone\", \"Internet\", \"Mobile Phone\", \"Student Loan\", \"Television\", \"Utilities\", \"Web Hosting\"],\n",
    "  \"Health\": [\"Dentist\", \"Doctor\", \"Eyecare\", \"Gym\", \"Hair\", \"Health & Fitness\", \"Health Insurance\", \"Personal Care\", \"Pharmacy\"],\n",
    "  \"Travel\": [\"Air Travel\", \"Hotel\", \"Travel\", \"Vacation\"],\n",
    "  \"Transport\": [\"Auto & Transport\", \"Auto Insurance\", \"Auto Payment\", \"Gas & Fuel\", \"Parking\", \"Public Transportation\", \"Registration\", \"Rental Car & Taxi\", \"Service & Parts\"],\n",
    "  \"Entertainment\": [\"Amusement\", \"Alcohol & Bars\", \"Arts\", \"Coffee Shops\", \"Entertainment\", \"Movies & DVDs\", \"Music\", \"Newspapers & Magazines\", \"Spa & Massage\", \"Sports\"],\n",
    "  \"Stuff\": [\"Books\", \"Books & Supplies\", \"Clothing\", \"Electronics & Software\", \"Furnishings\", \"Hobbies\", \"Office Supplies\", \"Pet Food & Supplies\", \"Printing\", \"Shopping\", \"Sporting Goods\"],\n",
    "  \"Other\": [\"Advertising\", \"ATM Fee\", \"Bank Fee\", \"Business Services\", \"Charity\", \"Check\", \"Education\", \"Federal Tax\", \"Fees & Charges\", \"Finance Charge\", \"Financial\", \"Gift\", \"Gifts & Donations\", \"Late Fee\", \"Local Tax\", \"Moving Expenses\", \"Personal Development\", \"Pets\", \"Service Fee\", \"Shipping\", \"State Tax\", \"Taxes\", \"Trade Commissions\", \"Uncategorized\", \"Wedding\", \"Work Reimbursable\"],\n",
    "  \"Ignore\": [\"Cash & ATM\", \"Credit Card Payment\", \"Hide from Budgets & Trends\", \"Investments\", \"Kids\", \"Savings\", \"Transfer\", \"Transfer for Cash Spending\", \"Transfer to Savings\"],\n",
    "  \"Income\": [\"Bonus\", \"Income\", \"Interest Income\", \"Paycheck\", \"Rental\"]\n",
    "}"
   ]
  },
  {
   "cell_type": "code",
   "execution_count": null,
   "metadata": {
    "node_exists": false,
    "node_name": "b7cb6775fca34fa29aee974a469b2c2b"
   },
   "outputs": [],
   "source": [
    "mc_reverse = {v:k for k in mc for v in mc[k]}\n",
    "len(mc_reverse)"
   ]
  },
  {
   "cell_type": "code",
   "execution_count": null,
   "metadata": {
    "node_exists": false,
    "node_name": "8ff47f0fc3194b6f84fa67700e280889"
   },
   "outputs": [],
   "source": [
    "df = pd.read_csv('../data/transactions.csv')\n",
    "df['Date'] = pd.to_datetime(df['Date'])\n",
    "df['year'] = df['Date'].apply(lambda x: x.year)\n",
    "df['month'] = df['Date'].apply(lambda x: x.month)\n",
    "df['day'] = df['Date'].apply(lambda x: x.day)\n",
    "df['master_category'] = df['Category'].replace(mc_reverse)\n",
    "df.columns = [c.replace(' ', '_').lower() for c in df.columns]\n",
    "df.head()"
   ]
  },
  {
   "cell_type": "code",
   "execution_count": null,
   "metadata": {
    "node_exists": false,
    "node_name": "b3bbe8414cea4e5481abba0766101367"
   },
   "outputs": [],
   "source": [
    "df.info()"
   ]
  },
  {
   "cell_type": "markdown",
   "metadata": {},
   "source": [
    "# Create Database\n",
    "\n",
    "* create raw transactions table\n",
    "* create summary table\n",
    "    * group to top-level category\n",
    "    * aggregate by day\n",
    "    * add MA's"
   ]
  },
  {
   "cell_type": "code",
   "execution_count": null,
   "metadata": {
    "node_exists": false,
    "node_name": "5061c7486bf446808fd657eb44783d9d"
   },
   "outputs": [],
   "source": [
    "# create transactions table, replace if exists\n",
    "conn = sqlite3.connect('../data/transactions.db')\n",
    "df.to_sql('transactions', conn, index=None, if_exists='replace')\n",
    "conn.close()"
   ]
  },
  {
   "cell_type": "code",
   "execution_count": null,
   "metadata": {
    "node_exists": false,
    "node_name": "eb5fa1cea16e43f88c2876b2016649e4"
   },
   "outputs": [],
   "source": [
    "conn = sqlite3.connect('../data/transactions.db')\n",
    "loaded = pd.read_sql(\"\"\"\n",
    "    SELECT date, amount\n",
    "    FROM transactions\n",
    "    WHERE transaction_type == 'credit' AND category <> 'Transfer'\n",
    "\"\"\", conn)\n",
    "conn.close()\n",
    "loaded.head()"
   ]
  },
  {
   "cell_type": "markdown",
   "metadata": {},
   "source": [
    "# Aggregate"
   ]
  },
  {
   "cell_type": "code",
   "execution_count": null,
   "metadata": {
    "node_exists": false,
    "node_name": "6f5cc914ee334a3b8396eaff8e4ea7ec"
   },
   "outputs": [],
   "source": [
    "daily = df.copy()\n",
    "daily = daily[['date', 'amount', 'master_category']].groupby(['date', 'master_category']).sum()\n",
    "daily.head(20)"
   ]
  },
  {
   "cell_type": "code",
   "execution_count": null,
   "metadata": {
    "node_exists": false,
    "node_name": "f7b968874b1f4a028b10ee8269958638"
   },
   "outputs": [],
   "source": [
    "monthly = df.copy().set_index('date')\n",
    "monthly = monthly[['master_category', 'amount']].groupby([lambda x: pd.to_datetime(f'{x.year}-{x.month:02d}'), 'master_category']).sum()\n",
    "monthly['isExpense'] = monthly.index.get_level_values('master_category') != 'Income'\n",
    "monthly['io'] = 'Income'\n",
    "monthly.loc['isExpense', 'io'] = 'Expense'\n",
    "monthly.pivot(columns='isExpense')\n",
    "#monthly = monthly.pivot(columns=monthly[monthly.index.get_level_values('master_category') == 'Income'], values='amount')\n",
    "\n",
    "monthly.head(20)"
   ]
  },
  {
   "cell_type": "code",
   "execution_count": null,
   "metadata": {
    "node_exists": false,
    "node_name": "4e3877ca1b3d43f889967871a606ea08"
   },
   "outputs": [],
   "source": [
    "monthly['isExpense']"
   ]
  },
  {
   "cell_type": "markdown",
   "metadata": {
    "node_exists": false,
    "node_name": "bb242bee0f5e401f836fd4953355d4a6"
   },
   "source": [
    "## Timed aggregation"
   ]
  },
  {
   "cell_type": "code",
   "execution_count": null,
   "metadata": {},
   "outputs": [],
   "source": [
    "monthly.head()"
   ]
  },
  {
   "cell_type": "code",
   "execution_count": null,
   "metadata": {},
   "outputs": [],
   "source": []
  }
 ],
 "metadata": {
  "kernelspec": {
   "display_name": "Python 3",
   "language": "python",
   "name": "python3"
  },
  "language_info": {
   "codemirror_mode": {
    "name": "ipython",
    "version": 3
   },
   "file_extension": ".py",
   "mimetype": "text/x-python",
   "name": "python",
   "nbconvert_exporter": "python",
   "pygments_lexer": "ipython3",
   "version": "3.6.4"
  }
 },
 "nbformat": 4,
 "nbformat_minor": 2
}
